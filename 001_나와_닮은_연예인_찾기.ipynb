{
  "nbformat": 4,
  "nbformat_minor": 0,
  "metadata": {
    "colab": {
      "name": "001. 나와 닮은 연예인 찾기.ipynb",
      "provenance": [],
      "collapsed_sections": [],
      "authorship_tag": "ABX9TyMRpW6tHSme6AHXo/44CMQO",
      "include_colab_link": true
    },
    "kernelspec": {
      "name": "python3",
      "display_name": "Python 3"
    },
    "language_info": {
      "name": "python"
    },
    "accelerator": "GPU",
    "gpuClass": "standard"
  },
  "cells": [
    {
      "cell_type": "markdown",
      "metadata": {
        "id": "view-in-github",
        "colab_type": "text"
      },
      "source": [
        "<a href=\"https://colab.research.google.com/github/osh9149/2022_AI/blob/main/001_%EB%82%98%EC%99%80_%EB%8B%AE%EC%9D%80_%EC%97%B0%EC%98%88%EC%9D%B8_%EC%B0%BE%EA%B8%B0.ipynb\" target=\"_parent\"><img src=\"https://colab.research.google.com/assets/colab-badge.svg\" alt=\"Open In Colab\"/></a>"
      ]
    },
    {
      "cell_type": "markdown",
      "source": [
        "#0.라이브러리 설치하기"
      ],
      "metadata": {
        "id": "HOyzyV2VmlLW"
      }
    },
    {
      "cell_type": "code",
      "source": [
        "!pip install opencv-python\n",
        "!pip install cmake\n",
        "!pip install dlib\n",
        "!pip install pillow"
      ],
      "metadata": {
        "id": "6kyBrP58mrab"
      },
      "execution_count": null,
      "outputs": []
    },
    {
      "cell_type": "markdown",
      "source": [
        "#폰트 설치"
      ],
      "metadata": {
        "id": "BSAbuRoDEb1G"
      }
    },
    {
      "cell_type": "code",
      "source": [
        "!sudo apt-get install -y fonts-nanum\n",
        "!sudo fc-cache -fv\n",
        "!rm ~/.cache/matplotlib -rf"
      ],
      "metadata": {
        "id": "SioC2HbXKTBm"
      },
      "execution_count": null,
      "outputs": []
    },
    {
      "cell_type": "markdown",
      "source": [
        "#런타임->런타임유형변경->GPU로 설정"
      ],
      "metadata": {
        "id": "NaU0PABS5yYX"
      }
    },
    {
      "cell_type": "markdown",
      "source": [
        "#1. 필요 라이브러리 import"
      ],
      "metadata": {
        "id": "vqGgBwklmPda"
      }
    },
    {
      "cell_type": "code",
      "source": [
        "import cv2, math\n",
        "import matplotlib.pyplot as plt\n",
        "import numpy as np\n",
        "import dlib\n",
        "import os #chdir사용시 필요함\n",
        "import glob #파일 경로 \n",
        "from google.colab.patches import cv2_imshow\n",
        "\n",
        "from PIL import ImageFont, ImageDraw, Image\n",
        "import tensorflow.keras \n",
        "from tensorflow.keras import backend as K"
      ],
      "metadata": {
        "id": "BJ5PURWxnC2U"
      },
      "execution_count": null,
      "outputs": []
    },
    {
      "cell_type": "markdown",
      "source": [
        "#구글 드라이브 마운트"
      ],
      "metadata": {
        "id": "C7xApNJaqJZ5"
      }
    },
    {
      "cell_type": "code",
      "source": [
        "from google.colab import drive\n",
        "drive.mount('/content/drive')"
      ],
      "metadata": {
        "colab": {
          "base_uri": "https://localhost:8080/"
        },
        "id": "6EjxEcKaqJj0",
        "outputId": "bedbd4d2-3117-4bf0-bf83-4b859cddabc4"
      },
      "execution_count": null,
      "outputs": [
        {
          "output_type": "stream",
          "name": "stdout",
          "text": [
            "Mounted at /content/drive\n"
          ]
        }
      ]
    },
    {
      "cell_type": "markdown",
      "source": [
        "#dlib에서 제공하는 데이터업로드"
      ],
      "metadata": {
        "id": "9yvE0gCvCoGr"
      }
    },
    {
      "cell_type": "code",
      "source": [
        "detector = dlib.get_frontal_face_detector()\n",
        "sp = dlib.shape_predictor('/content/drive/MyDrive/sticker/shape_predictor_68_face_landmarks.dat')\n",
        "facerec = dlib.face_recognition_model_v1('/content/drive/MyDrive/sticker/dlib_face_recognition_resnet_model_v1.dat')"
      ],
      "metadata": {
        "id": "xX14NJd63mcE"
      },
      "execution_count": null,
      "outputs": []
    },
    {
      "cell_type": "markdown",
      "source": [
        "#2. 함수 정의"
      ],
      "metadata": {
        "id": "Vw1dn_QQmPf_"
      }
    },
    {
      "cell_type": "code",
      "source": [
        "def find_faces(img):\n",
        "    dets = detector(img, 1)\n",
        "\n",
        "    if len(dets) == 0:\n",
        "        return np.empty(0), np.empty(0), np.empty(0)\n",
        "    \n",
        "    rects, shapes = [], []\n",
        "    shapes_np = np.zeros((len(dets), 68, 2), dtype=np.int)\n",
        "    for k, d in enumerate(dets):\n",
        "        rect = ((d.left(), d.top()), (d.right(), d.bottom()))\n",
        "        rects.append(rect)\n",
        "\n",
        "        shape = sp(img, d)\n",
        "        \n",
        "        # convert dlib shape to numpy array\n",
        "        for i in range(0, 68):\n",
        "            shapes_np[k][i] = (shape.part(i).x, shape.part(i).y)\n",
        "\n",
        "        shapes.append(shape)\n",
        "        \n",
        "    return rects, shapes, shapes_np\n",
        "\n",
        "\n",
        "def encode_faces(img, shapes):\n",
        "    face_descriptors = []\n",
        "    for shape in shapes:\n",
        "        face_descriptor = facerec.compute_face_descriptor(img, shape)\n",
        "        face_descriptors.append(np.array(face_descriptor))\n",
        "\n",
        "    return np.array(face_descriptors)\n",
        "    \n",
        "    \n",
        "def draw(img, comment, x, y, h, size):\n",
        "    fontpath = \"/usr/share/fonts/truetype/nanum/NanumMyeongjo.ttf\"\n",
        "    font = ImageFont.truetype(fontpath, 20)\n",
        "\n",
        "    img = Image.fromarray(img)\n",
        "    print('11111111')\n",
        "    draw = ImageDraw.Draw(img)\n",
        "    print('22222222222')\n",
        "    draw.text((x+5,y+h), comment, font=font, fill=(40,180,120))  \n",
        "    print('3333333333333')\n",
        "\n",
        "    return np.array(img)  "
      ],
      "metadata": {
        "id": "JtpobonepQDo"
      },
      "execution_count": null,
      "outputs": []
    },
    {
      "cell_type": "markdown",
      "source": [
        "#3. 데이터 베이스 생성"
      ],
      "metadata": {
        "id": "Noqx0a5Ym9Ns"
      }
    },
    {
      "cell_type": "markdown",
      "source": [
        "glob 모듈의 glob 함수는 사용자가 제시한 조건에 맞는 파일명을 리스트 형식으로 반환한다. 단, 조건에 정규식을 사용할 수 없으며 엑셀 등에서도 사용할 수 있는 '*'와 '?'같은 와일드카드만을 지원한다."
      ],
      "metadata": {
        "id": "EtJbjnaj_Xnn"
      }
    },
    {
      "cell_type": "code",
      "source": [
        "label_name = []\n",
        "label_class = {}\n",
        "img_paths = glob.glob('/content/drive/MyDrive/kpop_img/*')\n",
        "\n",
        "for path in img_paths:\n",
        "    # print(path)\n",
        "    name = path.split(\".\")[0][9:]\n",
        "    print(name)\n",
        "    label_name.append(name)\n",
        "    label_class[name] = path\n",
        "\n",
        "# print(label_name)\n",
        "# print(label_class)\n",
        "# print(len(label_class))"
      ],
      "metadata": {
        "id": "BPBxYZhSm8jx"
      },
      "execution_count": null,
      "outputs": []
    },
    {
      "cell_type": "code",
      "source": [
        "descs = []\n",
        "\n",
        "for name, label_path in label_class.items():\n",
        "    img = cv2.imread(label_path)\n",
        "    # img = cv2.cvtColor(img, cv2.COLOR_BGR2RGB) # BGR -> RGB\n",
        "    _, img_shapes, _ = find_faces(img)\n",
        "    descs.append([name, encode_faces(img, img_shapes)[0]])\n",
        "\n",
        "np.save('descs.npy', descs)\n",
        "#print(descs)"
      ],
      "metadata": {
        "id": "jeStUZZDfZ8i",
        "colab": {
          "base_uri": "https://localhost:8080/",
          "height": 245
        },
        "collapsed": true,
        "outputId": "bd84bf9f-30dc-4543-f41b-e7e9a9311fae"
      },
      "execution_count": null,
      "outputs": [
        {
          "output_type": "error",
          "ename": "NameError",
          "evalue": "ignored",
          "traceback": [
            "\u001b[0;31m---------------------------------------------------------------------------\u001b[0m",
            "\u001b[0;31mNameError\u001b[0m                                 Traceback (most recent call last)",
            "\u001b[0;32m<ipython-input-1-09c25f2a052f>\u001b[0m in \u001b[0;36m<module>\u001b[0;34m\u001b[0m\n\u001b[1;32m      1\u001b[0m \u001b[0mdescs\u001b[0m \u001b[0;34m=\u001b[0m \u001b[0;34m[\u001b[0m\u001b[0;34m]\u001b[0m\u001b[0;34m\u001b[0m\u001b[0;34m\u001b[0m\u001b[0m\n\u001b[1;32m      2\u001b[0m \u001b[0;34m\u001b[0m\u001b[0m\n\u001b[0;32m----> 3\u001b[0;31m \u001b[0;32mfor\u001b[0m \u001b[0mname\u001b[0m\u001b[0;34m,\u001b[0m \u001b[0mlabel_path\u001b[0m \u001b[0;32min\u001b[0m \u001b[0mlabel_class\u001b[0m\u001b[0;34m.\u001b[0m\u001b[0mitems\u001b[0m\u001b[0;34m(\u001b[0m\u001b[0;34m)\u001b[0m\u001b[0;34m:\u001b[0m\u001b[0;34m\u001b[0m\u001b[0;34m\u001b[0m\u001b[0m\n\u001b[0m\u001b[1;32m      4\u001b[0m     \u001b[0mimg\u001b[0m \u001b[0;34m=\u001b[0m \u001b[0mcv2\u001b[0m\u001b[0;34m.\u001b[0m\u001b[0mimread\u001b[0m\u001b[0;34m(\u001b[0m\u001b[0mlabel_path\u001b[0m\u001b[0;34m)\u001b[0m\u001b[0;34m\u001b[0m\u001b[0;34m\u001b[0m\u001b[0m\n\u001b[1;32m      5\u001b[0m     \u001b[0mimg\u001b[0m \u001b[0;34m=\u001b[0m \u001b[0mcv2\u001b[0m\u001b[0;34m.\u001b[0m\u001b[0mcvtColor\u001b[0m\u001b[0;34m(\u001b[0m\u001b[0mimg\u001b[0m\u001b[0;34m,\u001b[0m \u001b[0mcv2\u001b[0m\u001b[0;34m.\u001b[0m\u001b[0mCOLOR_BGR2RGB\u001b[0m\u001b[0;34m)\u001b[0m \u001b[0;31m# BGR -> RGB\u001b[0m\u001b[0;34m\u001b[0m\u001b[0;34m\u001b[0m\u001b[0m\n",
            "\u001b[0;31mNameError\u001b[0m: name 'label_class' is not defined"
          ]
        }
      ]
    },
    {
      "cell_type": "markdown",
      "source": [
        "#4. 저장된 파일 중에서 나와 닮은 연예인 찾기"
      ],
      "metadata": {
        "id": "ewgi3HiTmZD4"
      }
    },
    {
      "cell_type": "code",
      "source": [
        "test_path='/content/drive/MyDrive/test_img/'\n",
        "img = cv2.imread(test_path+'kk.jpg') #테스트할 사진이름\n",
        "\n",
        "img = cv2.flip(img, 1) # 좌우 대칭\n",
        "rects, shapes, _ = find_faces(img) # 얼굴 찾기\n",
        "descriptors = encode_faces(img, shapes) # 인코딩\n",
        "\n",
        "if(len(descriptors) == 0):\n",
        "    print(\"얼굴 인식이 안되었네요ㅜㅜ \\n다시 찍어주세요!\")\n",
        "elif(len(descriptors) > 1):\n",
        "    print(\"여러 명이 인식이 되었네요ㅜㅜ \\n혼자 다시 찍어주세요!\")\n",
        "else:\n",
        "    desc = descriptors[0]\n",
        "    x = rects[0][0][0] # 얼굴 X 좌표\n",
        "    y = rects[0][0][1] # 얼굴 Y 좌표\n",
        "    w = rects[0][1][1]-rects[0][0][1] # 얼굴 너비 \n",
        "    h = rects[0][1][0]-rects[0][0][0] # 얼굴 높이        \n",
        "\n",
        "    descs1 = sorted(descs, key=lambda x: np.linalg.norm([desc] - x[1]))\n",
        "    dist = np.linalg.norm([desc] - descs1[0][1], axis=1)\n",
        "    if dist < 0.5:\n",
        "        name = descs1[0][0]\n",
        "        img_name=name[len(img_paths)+2:]\n",
        "        comment = \"{0} 닮으셨네요. 올~~\".format(img_name.split(\".\")[0]) \n",
        "        print(name)\n",
        "        img = cv2.imread(label_class[name])\n",
        "#             img = cv2.resize(img, dsize=(780, 520))\n",
        "        result = draw(img, comment, x-10, y, h, 36)\n",
        "    else:\n",
        "        comment = \"닮은 연예인이 없네요\\nㅜㅜ 개성있는 얼굴입니다!\\n\"\n",
        "        img = cv2.imread(test_path+'ojing.png')\n",
        "        result = draw(img, comment, 50, 10, h, 24)\n",
        "\n",
        "    print(\"거리: %.3f\" % dist[0])\n",
        "    print(comment)\n",
        "#    cv2.imshow(name, result)\n",
        "    result = cv2.cvtColor(result, cv2.COLOR_BGR2RGB) # BGR -> RGB\n",
        "    plt.imshow(result)\n",
        "\n",
        "cv2.waitKey(0)\n",
        "cv2.destroyAllWindows()"
      ],
      "metadata": {
        "id": "n8H5DZBpmWOv"
      },
      "execution_count": null,
      "outputs": []
    },
    {
      "cell_type": "markdown",
      "source": [
        "#닮은 연예인 찾기(실시간으로 찍어서 찾기)"
      ],
      "metadata": {
        "id": "ht6bb4vALUmf"
      }
    },
    {
      "cell_type": "markdown",
      "source": [
        "#구글 코랩에서 웹캠 사용하는 코드"
      ],
      "metadata": {
        "id": "6rh5vpcB_NG5"
      }
    },
    {
      "cell_type": "code",
      "source": [
        "from IPython.display import display, Javascript\n",
        "from google.colab.output import eval_js\n",
        "from base64 import b64decode\n",
        "\n",
        "def take_photo(filename='photo.jpg', quality=0.8):\n",
        "  js = Javascript('''\n",
        "    async function takePhoto(quality) {\n",
        "      const div = document.createElement('div');\n",
        "      const capture = document.createElement('button');\n",
        "      capture.textContent = 'Capture';\n",
        "      div.appendChild(capture);\n",
        "\n",
        "      const video = document.createElement('video');\n",
        "      video.style.display = 'block';\n",
        "      const stream = await navigator.mediaDevices.getUserMedia({video: true});\n",
        "\n",
        "      document.body.appendChild(div);\n",
        "      div.appendChild(video);\n",
        "      video.srcObject = stream;\n",
        "      await video.play();\n",
        "\n",
        "      // Resize the output to fit the video element.\n",
        "      google.colab.output.setIframeHeight(document.documentElement.scrollHeight, true);\n",
        "\n",
        "      // Wait for Capture to be clicked.\n",
        "      await new Promise((resolve) => capture.onclick = resolve);\n",
        "\n",
        "      const canvas = document.createElement('canvas');\n",
        "      canvas.width = video.videoWidth;\n",
        "      canvas.height = video.videoHeight;\n",
        "      canvas.getContext('2d').drawImage(video, 0, 0);\n",
        "      stream.getVideoTracks()[0].stop();\n",
        "      div.remove();\n",
        "      return canvas.toDataURL('image/jpeg', quality);\n",
        "    }\n",
        "    ''')\n",
        "  display(js)\n",
        "  data = eval_js('takePhoto({})'.format(quality))\n",
        "  binary = b64decode(data.split(',')[1])\n",
        "  with open(filename, 'wb') as f:\n",
        "    f.write(binary)\n",
        "  return filename"
      ],
      "metadata": {
        "id": "tDKO7Tm18mJe"
      },
      "execution_count": null,
      "outputs": []
    },
    {
      "cell_type": "markdown",
      "source": [
        "#웹캠에 나온 사진 캡쳐하여 저장"
      ],
      "metadata": {
        "id": "2Fn5SiKM_Sdx"
      }
    },
    {
      "cell_type": "code",
      "source": [
        "from IPython.display import Image\n",
        "try:\n",
        "  filename = take_photo()\n",
        "  print('Saved to {}'.format(filename))\n",
        "  \n",
        "  # Show the image which was just taken.\n",
        "  display(Image(filename))\n",
        "except Exception as err:\n",
        "  # Errors will be thrown if the user does not have a webcam or if they do not\n",
        "  # grant the page permission to access it.\n",
        "  print(str(err))"
      ],
      "metadata": {
        "id": "3iOqGpgA8mJe"
      },
      "execution_count": null,
      "outputs": []
    },
    {
      "cell_type": "code",
      "source": [
        "from google.colab.patches import cv2_imshow\n",
        "# !curl -o photo.png https://colab.research.google.com/img/colab_favicon_256px.png\n",
        "import cv2\n",
        "img=cv2.imread('photo.jpg', cv2.IMREAD_UNCHANGED)\n",
        "cv2_imshow(img)\n",
        "\n",
        "\n"
      ],
      "metadata": {
        "id": "Nf7gWft8wl3T"
      },
      "execution_count": null,
      "outputs": []
    },
    {
      "cell_type": "code",
      "source": [
        "frame=cv2.imread('photo.jpg', cv2.IMREAD_UNCHANGED)\n",
        "frame = cv2.flip(frame, 1) # 좌우 대칭\n",
        "cv2_imshow(frame)\n",
        "    \n",
        " "
      ],
      "metadata": {
        "id": "RoOlV-wE-Smm"
      },
      "execution_count": null,
      "outputs": []
    },
    {
      "cell_type": "code",
      "source": [
        "user_name = input(\"너의 이름은? \") # 사용자 이름 입력\n",
        "frame=cv2.imread('photo.jpg', cv2.IMREAD_UNCHANGED)\n",
        "frame = cv2.flip(frame, 1) # 좌우 대칭\n",
        "# cv2_imshow(frame)\n",
        "\n",
        "rects, shapes, _ = find_faces(frame) # 얼굴 찾기\n",
        "descriptors = encode_faces(frame, shapes) # 인코딩\n",
        "\n",
        "if(len(descriptors) == 0):\n",
        "  print(\"얼굴 인식이 안되었네요ㅜㅜ \\n다시 찍어주세요!\")\n",
        "elif(len(descriptors) > 1):\n",
        "  print(\"여러 명이 인식이 되었네요ㅜㅜ \\n혼자 다시 찍어주세요!\")\n",
        "else:\n",
        "  desc = descriptors[0]\n",
        "  x = rects[0][0][0] # 얼굴 X 좌표\n",
        "  y = rects[0][0][1] # 얼굴 Y 좌표\n",
        "  w = rects[0][1][1]-rects[0][0][1] # 얼굴 너비 \n",
        "  h = rects[0][1][0]-rects[0][0][0] # 얼굴 높이        \n",
        "\n",
        "  descs1 = sorted(descs, key=lambda x: np.linalg.norm([desc] - x[1]))\n",
        "  dist = np.linalg.norm([desc] - descs1[0][1], axis=1)\n",
        "  if dist < 0.45:\n",
        "    comment = \"{0}을 닮으셨네요. 올~~\".format(name) \n",
        "    img = cv2.imread(label_class[name])\n",
        "    #img = cv2.resize(img, dsize=(780, 520))\n",
        "    result = draw(img, comment, x-10, y, h, 36)\n",
        "  else:\n",
        "    print(dist)\n",
        "    comment = \"{0}님은 닮은 연예인이 없네요\\nㅜㅜ 개성만점얼굴입니다!\\n\".format(user_name)\n",
        "    img = cv2.imread(\"test_img/ojing.png\")\n",
        "  #  img = cv2.resize(img, dsize=(w, h+30)) \n",
        "    # frame[y-30:y+h, x:x+w] = img \n",
        "    result = draw(frame, comment, 50, 10, h, 24)\n",
        "\n",
        "    print(comment)\n",
        "  # cv2.imshow(name, result)\n",
        "    result = cv2.cvtColor(result, cv2.COLOR_BGR2RGB) # BGR -> RGB\n",
        "    plt.imshow(result)\n"
      ],
      "metadata": {
        "id": "gZcfE-D2AIGJ",
        "colab": {
          "base_uri": "https://localhost:8080/",
          "height": 390
        },
        "collapsed": true,
        "outputId": "ec9fd304-22e8-4faa-a886-3858fcf823db"
      },
      "execution_count": null,
      "outputs": [
        {
          "name": "stdout",
          "output_type": "stream",
          "text": [
            "너의 이름은? ttt\n"
          ]
        },
        {
          "output_type": "error",
          "ename": "NameError",
          "evalue": "ignored",
          "traceback": [
            "\u001b[0;31m---------------------------------------------------------------------------\u001b[0m",
            "\u001b[0;31mNameError\u001b[0m                                 Traceback (most recent call last)",
            "\u001b[0;32m<ipython-input-8-aaa7398d73a2>\u001b[0m in \u001b[0;36m<module>\u001b[0;34m\u001b[0m\n\u001b[1;32m      4\u001b[0m \u001b[0;31m# cv2_imshow(frame)\u001b[0m\u001b[0;34m\u001b[0m\u001b[0;34m\u001b[0m\u001b[0;34m\u001b[0m\u001b[0m\n\u001b[1;32m      5\u001b[0m \u001b[0;34m\u001b[0m\u001b[0m\n\u001b[0;32m----> 6\u001b[0;31m \u001b[0mrects\u001b[0m\u001b[0;34m,\u001b[0m \u001b[0mshapes\u001b[0m\u001b[0;34m,\u001b[0m \u001b[0m_\u001b[0m \u001b[0;34m=\u001b[0m \u001b[0mfind_faces\u001b[0m\u001b[0;34m(\u001b[0m\u001b[0mframe\u001b[0m\u001b[0;34m)\u001b[0m \u001b[0;31m# 얼굴 찾기\u001b[0m\u001b[0;34m\u001b[0m\u001b[0;34m\u001b[0m\u001b[0m\n\u001b[0m\u001b[1;32m      7\u001b[0m \u001b[0mdescriptors\u001b[0m \u001b[0;34m=\u001b[0m \u001b[0mencode_faces\u001b[0m\u001b[0;34m(\u001b[0m\u001b[0mframe\u001b[0m\u001b[0;34m,\u001b[0m \u001b[0mshapes\u001b[0m\u001b[0;34m)\u001b[0m \u001b[0;31m# 인코딩\u001b[0m\u001b[0;34m\u001b[0m\u001b[0;34m\u001b[0m\u001b[0m\n\u001b[1;32m      8\u001b[0m \u001b[0;34m\u001b[0m\u001b[0m\n",
            "\u001b[0;32m<ipython-input-7-e6244e1ee7cb>\u001b[0m in \u001b[0;36mfind_faces\u001b[0;34m(img)\u001b[0m\n\u001b[1;32m      1\u001b[0m \u001b[0;32mdef\u001b[0m \u001b[0mfind_faces\u001b[0m\u001b[0;34m(\u001b[0m\u001b[0mimg\u001b[0m\u001b[0;34m)\u001b[0m\u001b[0;34m:\u001b[0m\u001b[0;34m\u001b[0m\u001b[0;34m\u001b[0m\u001b[0m\n\u001b[0;32m----> 2\u001b[0;31m     \u001b[0mdets\u001b[0m \u001b[0;34m=\u001b[0m \u001b[0mdetector\u001b[0m\u001b[0;34m(\u001b[0m\u001b[0mimg\u001b[0m\u001b[0;34m,\u001b[0m \u001b[0;36m1\u001b[0m\u001b[0;34m)\u001b[0m\u001b[0;34m\u001b[0m\u001b[0;34m\u001b[0m\u001b[0m\n\u001b[0m\u001b[1;32m      3\u001b[0m \u001b[0;34m\u001b[0m\u001b[0m\n\u001b[1;32m      4\u001b[0m     \u001b[0;32mif\u001b[0m \u001b[0mlen\u001b[0m\u001b[0;34m(\u001b[0m\u001b[0mdets\u001b[0m\u001b[0;34m)\u001b[0m \u001b[0;34m==\u001b[0m \u001b[0;36m0\u001b[0m\u001b[0;34m:\u001b[0m\u001b[0;34m\u001b[0m\u001b[0;34m\u001b[0m\u001b[0m\n\u001b[1;32m      5\u001b[0m         \u001b[0;32mreturn\u001b[0m \u001b[0mnp\u001b[0m\u001b[0;34m.\u001b[0m\u001b[0mempty\u001b[0m\u001b[0;34m(\u001b[0m\u001b[0;36m0\u001b[0m\u001b[0;34m)\u001b[0m\u001b[0;34m,\u001b[0m \u001b[0mnp\u001b[0m\u001b[0;34m.\u001b[0m\u001b[0mempty\u001b[0m\u001b[0;34m(\u001b[0m\u001b[0;36m0\u001b[0m\u001b[0;34m)\u001b[0m\u001b[0;34m,\u001b[0m \u001b[0mnp\u001b[0m\u001b[0;34m.\u001b[0m\u001b[0mempty\u001b[0m\u001b[0;34m(\u001b[0m\u001b[0;36m0\u001b[0m\u001b[0;34m)\u001b[0m\u001b[0;34m\u001b[0m\u001b[0;34m\u001b[0m\u001b[0m\n",
            "\u001b[0;31mNameError\u001b[0m: name 'detector' is not defined"
          ]
        }
      ]
    },
    {
      "cell_type": "code",
      "source": [
        "user_name = input(\"너의 이름은? \") # 사용자 이름 입력\n",
        "\n",
        "cap = cv2.VideoCapture(0) # 노트북 웹캠을 카메라로 사용\n",
        "cap.set(3,640) # 너비\n",
        "cap.set(4,480) # 높이\n",
        "\n",
        "while(True):\n",
        "    ret, frame = cap.read()\n",
        "    frame = cv2.flip(frame, 1) # 좌우 대칭\n",
        "    \n",
        "    cv2.imshow('frame', frame)\n",
        "    \n",
        "    k = cv2.waitKey(30) & 0xff \n",
        "    if k == 49: # 1 키를 누르면 사진 찍음.\n",
        "        cap.release()\n",
        "        cv2.destroyAllWindows()\n",
        "        \n",
        "        rects, shapes, _ = find_faces(frame) # 얼굴 찾기\n",
        "        descriptors = encode_faces(frame, shapes) # 인코딩\n",
        "\n",
        "        if(len(descriptors) == 0):\n",
        "            print(\"얼굴 인식이 안되었네요ㅜㅜ \\n다시 찍어주세요!\")\n",
        "        elif(len(descriptors) > 1):\n",
        "            print(\"여러 명이 인식이 되었네요ㅜㅜ \\n혼자 다시 찍어주세요!\")\n",
        "        else:\n",
        "            desc = descriptors[0]\n",
        "            x = rects[0][0][0] # 얼굴 X 좌표\n",
        "            y = rects[0][0][1] # 얼굴 Y 좌표\n",
        "            w = rects[0][1][1]-rects[0][0][1] # 얼굴 너비 \n",
        "            h = rects[0][1][0]-rects[0][0][0] # 얼굴 높이        \n",
        "\n",
        "            descs1 = sorted(descs, key=lambda x: np.linalg.norm([desc] - x[1]))\n",
        "            dist = np.linalg.norm([desc] - descs1[0][1], axis=1)\n",
        "            if dist < 0.45:\n",
        "                name = descs1[0][0]\n",
        "                comment = \"{0}을 닮으셨네요. 올~~\".format(name) \n",
        "                img = cv2.imread(label_class[name])\n",
        "#                 img = cv2.resize(img, dsize=(780, 520))\n",
        "                result = draw(img, comment, x-10, y, h, 36)\n",
        "            else:\n",
        "                print(dist)\n",
        "                comment = \"{0}님은 닮은 연예인이 없네요\\nㅜㅜ 성형하고 오세요!\\n\".format(user_name)\n",
        "                img = cv2.imread(\"test_img/ojingeo1.png\")\n",
        "                img = cv2.resize(img, dsize=(w, h+30)) \n",
        "                frame[y-30:y+h, x:x+w] = img \n",
        "                result = draw(frame, comment, 50, 10, h, 24)\n",
        "\n",
        "            print(comment)\n",
        "#             cv2.imshow(name, result)\n",
        "            result = cv2.cvtColor(result, cv2.COLOR_BGR2RGB) # BGR -> RGB\n",
        "            plt.imshow(result)\n",
        "\n",
        "        break\n",
        "    \n",
        "cv2.waitKey(0)\n",
        "cv2.destroyAllWindows()"
      ],
      "metadata": {
        "id": "qsFwW3pOLc_w"
      },
      "execution_count": null,
      "outputs": []
    }
  ]
}