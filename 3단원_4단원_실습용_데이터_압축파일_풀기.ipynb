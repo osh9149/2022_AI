{
  "nbformat": 4,
  "nbformat_minor": 0,
  "metadata": {
    "colab": {
      "name": "3단원-4단원 실습용 데이터 압축파일 풀기.ipynb",
      "provenance": [],
      "collapsed_sections": [],
      "authorship_tag": "ABX9TyP8wBcNHeL5FWEP7s3DJCMp",
      "include_colab_link": true
    },
    "kernelspec": {
      "name": "python3",
      "display_name": "Python 3"
    },
    "language_info": {
      "name": "python"
    }
  },
  "cells": [
    {
      "cell_type": "markdown",
      "metadata": {
        "id": "view-in-github",
        "colab_type": "text"
      },
      "source": [
        "<a href=\"https://colab.research.google.com/github/osh9149/2022_AI/blob/main/3%EB%8B%A8%EC%9B%90_4%EB%8B%A8%EC%9B%90_%EC%8B%A4%EC%8A%B5%EC%9A%A9_%EB%8D%B0%EC%9D%B4%ED%84%B0_%EC%95%95%EC%B6%95%ED%8C%8C%EC%9D%BC_%ED%92%80%EA%B8%B0.ipynb\" target=\"_parent\"><img src=\"https://colab.research.google.com/assets/colab-badge.svg\" alt=\"Open In Colab\"/></a>"
      ]
    },
    {
      "cell_type": "markdown",
      "source": [
        "#드라이브 마운트"
      ],
      "metadata": {
        "id": "hKFedgovThIV"
      }
    },
    {
      "cell_type": "code",
      "execution_count": 1,
      "metadata": {
        "colab": {
          "base_uri": "https://localhost:8080/"
        },
        "id": "SgTwa_NrTHWy",
        "outputId": "68e868e7-1b23-4ead-d170-8816c000dbe5"
      },
      "outputs": [
        {
          "output_type": "stream",
          "name": "stdout",
          "text": [
            "Mounted at /content/drive\n"
          ]
        }
      ],
      "source": [
        "# 드라이브 마운트\n",
        "from google.colab import drive\n",
        "drive.mount('/content/drive')"
      ]
    },
    {
      "cell_type": "markdown",
      "source": [
        "#3단원"
      ],
      "metadata": {
        "id": "7RGqLGOXTkZG"
      }
    },
    {
      "cell_type": "code",
      "source": [
        "%cd /content/drive/MyDrive/Colab Notebooks/chapter3\n",
        "\n",
        "!unzip -qq \"/content/drive/MyDrive/Colab Notebooks/chapter3/*.zip\""
      ],
      "metadata": {
        "colab": {
          "base_uri": "https://localhost:8080/"
        },
        "id": "ho8ps0rYTkn6",
        "outputId": "fcf5d0ea-0c41-44f3-c287-53d0ae1e6488"
      },
      "execution_count": 3,
      "outputs": [
        {
          "output_type": "stream",
          "name": "stdout",
          "text": [
            "/content/drive/MyDrive/Colab Notebooks/data\n"
          ]
        }
      ]
    },
    {
      "cell_type": "markdown",
      "source": [
        "#4단원"
      ],
      "metadata": {
        "id": "QHtJJwJMgQrD"
      }
    },
    {
      "cell_type": "code",
      "source": [
        "%cd /content/drive/MyDrive/Colab Notebooks/chapter4\n",
        "\n",
        "!unzip -qq \"/content/drive/MyDrive/Colab Notebooks/chapter4/*.zip\""
      ],
      "metadata": {
        "colab": {
          "base_uri": "https://localhost:8080/"
        },
        "id": "ts_A5FmrgQ2h",
        "outputId": "d111d46a-740f-4a5f-f828-d5d7806b714c"
      },
      "execution_count": 5,
      "outputs": [
        {
          "output_type": "stream",
          "name": "stdout",
          "text": [
            "/content/drive/MyDrive/Colab Notebooks/chapter4\n"
          ]
        }
      ]
    }
  ]
}